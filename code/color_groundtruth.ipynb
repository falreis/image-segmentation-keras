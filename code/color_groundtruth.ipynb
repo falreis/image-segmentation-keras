{
 "cells": [
  {
   "cell_type": "code",
   "execution_count": 1,
   "metadata": {},
   "outputs": [],
   "source": [
    "%load_ext autoreload\n",
    "%autoreload 2\n",
    "\n",
    "import warnings\n",
    "warnings.filterwarnings(\"ignore\")"
   ]
  },
  {
   "cell_type": "code",
   "execution_count": 2,
   "metadata": {},
   "outputs": [],
   "source": [
    "import matplotlib.pyplot as plt, argparse, numpy as np, math, sys, copy\n",
    "from skimage.segmentation import slic, mark_boundaries, felzenszwalb\n",
    "from skimage.util import img_as_float\n",
    "from skimage import io\n",
    "import numpy as np\n",
    "import superpixels as sp\n",
    "import glob\n",
    "import pipeline as pipe\n",
    "import time\n",
    "import superpixels as sp\n",
    "import scipy.stats as sci\n",
    "from PIL import Image\n",
    "from scipy import ndimage\n",
    "import cv2\n",
    "import process_ground_truth as pgt"
   ]
  },
  {
   "cell_type": "code",
   "execution_count": 3,
   "metadata": {},
   "outputs": [],
   "source": [
    "data_path = '/media/falreis/falreis1/mestrado/deep_learning/BSDS500/data/groundTruth/'\n",
    "save_path = '/media/falreis/falreis1/mestrado/deep_learning/BSDS500/pre_process/color/'\n",
    "\n",
    "epsilon = 0.0001 #just to round down\n",
    "DEFAULT_IMG_SIZE = (481,481,3) #defaul image size"
   ]
  },
  {
   "cell_type": "markdown",
   "metadata": {},
   "source": [
    "### Read Images"
   ]
  },
  {
   "cell_type": "code",
   "execution_count": 7,
   "metadata": {},
   "outputs": [
    {
     "name": "stdout",
     "output_type": "stream",
     "text": [
      "100 100\n"
     ]
    }
   ],
   "source": [
    "data_types = ['val']\n",
    "\n",
    "image_names, names = [], []\n",
    "\n",
    "for data_type in data_types:\n",
    "    image_path = data_path + data_type + '/'\n",
    "    names_path = save_path + data_type + '/'\n",
    "    \n",
    "    len_path = len(image_path)\n",
    "    image_files = glob.glob(image_path + '*.mat')\n",
    "    image_filenames = [x[len_path:-4] for x in image_files]\n",
    "\n",
    "    #load images\n",
    "    for filename in image_filenames:\n",
    "        file = image_path + filename + '.mat'\n",
    "\n",
    "        #append image and groundtruths\n",
    "        image_names.append(file)\n",
    "        names.append(names_path + filename + '.png')\n",
    "\n",
    "print(len(image_names), len(names))"
   ]
  },
  {
   "cell_type": "code",
   "execution_count": 8,
   "metadata": {},
   "outputs": [
    {
     "name": "stdout",
     "output_type": "stream",
     "text": [
      "Done\n"
     ]
    }
   ],
   "source": [
    "for image_name, name in zip(image_names, names):\n",
    "    image = pgt.get_first_groundTruth(image_name)\n",
    "    segments = felzenszwalb(image, scale = 300, min_size = 30)\n",
    "    color_image = sp.color_groundtruth(image, segments)\n",
    "    io.imsave(name, color_image)\n",
    "\n",
    "print('Done')"
   ]
  },
  {
   "cell_type": "code",
   "execution_count": null,
   "metadata": {},
   "outputs": [],
   "source": []
  }
 ],
 "metadata": {
  "kernelspec": {
   "display_name": "Python 3",
   "language": "python",
   "name": "python3"
  },
  "language_info": {
   "codemirror_mode": {
    "name": "ipython",
    "version": 3
   },
   "file_extension": ".py",
   "mimetype": "text/x-python",
   "name": "python",
   "nbconvert_exporter": "python",
   "pygments_lexer": "ipython3",
   "version": "3.6.5"
  },
  "widgets": {
   "state": {},
   "version": "1.1.2"
  }
 },
 "nbformat": 4,
 "nbformat_minor": 2
}
