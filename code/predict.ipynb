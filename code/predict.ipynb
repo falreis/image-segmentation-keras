{
 "cells": [
  {
   "cell_type": "code",
   "execution_count": 13,
   "metadata": {},
   "outputs": [
    {
     "name": "stdout",
     "output_type": "stream",
     "text": [
      "The autoreload extension is already loaded. To reload it, use:\n",
      "  %reload_ext autoreload\n"
     ]
    }
   ],
   "source": [
    "%load_ext autoreload\n",
    "%autoreload 2\n",
    "\n",
    "import warnings\n",
    "warnings.filterwarnings(\"ignore\")"
   ]
  },
  {
   "cell_type": "code",
   "execution_count": 14,
   "metadata": {},
   "outputs": [],
   "source": [
    "import matplotlib.pyplot as plt, argparse, numpy as np, math, sys, copy\n",
    "from skimage.segmentation import slic, mark_boundaries, felzenszwalb\n",
    "from skimage.util import img_as_float\n",
    "from skimage import io\n",
    "import numpy as np\n",
    "import superpixels as sp\n",
    "import glob\n",
    "import pipeline as pipe\n",
    "import time\n",
    "import superpixels as sp\n",
    "import scipy.stats as sci\n",
    "from PIL import Image\n",
    "from scipy import ndimage\n",
    "import cv2"
   ]
  },
  {
   "cell_type": "code",
   "execution_count": 15,
   "metadata": {},
   "outputs": [],
   "source": [
    "import argparse\n",
    "import LoadBatches\n",
    "from Models import Segnet, VGGSegnet, VGGUnet, FCN8, FCN32\n",
    "from keras.models import load_model\n",
    "import glob\n",
    "import cv2\n",
    "import numpy as np\n",
    "import random"
   ]
  },
  {
   "cell_type": "markdown",
   "metadata": {},
   "source": [
    "### Parameters"
   ]
  },
  {
   "cell_type": "code",
   "execution_count": 41,
   "metadata": {},
   "outputs": [],
   "source": [
    "#weights\n",
    "save_weights_path = '/home/falreis/Me/mestrado/ppginf-disciplinas/deep_learning/tp_final/image-segmentation-keras/code/weights/'\n",
    "\n",
    "#input and output images\n",
    "images_path=\"/media/falreis/falreis1/mestrado/deep_learning/BSDS500/pre_process/images/test/\"  \n",
    "output_path='/media/falreis/falreis1/mestrado/deep_learning/BSDS500/predict/'\n",
    "\n",
    "#input height and width\n",
    "input_height = 481\n",
    "input_width = 481\n",
    "\n",
    "#classes and epochs\n",
    "n_classes = 2\n",
    "epoch_number = 3\n",
    "\n",
    "#optmizer and model name\n",
    "optimizer_name = 'adam'\n",
    "model_name = 'segnet'"
   ]
  },
  {
   "cell_type": "markdown",
   "metadata": {},
   "source": [
    "### Predict"
   ]
  },
  {
   "cell_type": "code",
   "execution_count": 42,
   "metadata": {
    "scrolled": false
   },
   "outputs": [
    {
     "name": "stdout",
     "output_type": "stream",
     "text": [
      "Done\n"
     ]
    }
   ],
   "source": [
    "modelFns = { 'segnet':Segnet.Segnet\n",
    "            , 'vgg_segnet':VGGSegnet.VGGSegnet\n",
    "            , 'vgg_unet':VGGUnet.VGGUnet\n",
    "            , 'vgg_unet2':VGGUnet.VGGUnet2\n",
    "            , 'fcn8':FCN8.FCN8\n",
    "            , 'fcn32':FCN32.FCN32 \n",
    "}\n",
    "modelFN = modelFns[ model_name ]\n",
    "\n",
    "m = modelFN( n_classes , input_height=input_height, input_width=input_width)\n",
    "m.load_weights(save_weights_path + \".\" + str(epoch_number))\n",
    "m.compile(loss='categorical_crossentropy',\n",
    "      optimizer= optimizer_name ,\n",
    "      metrics=['accuracy'])\n",
    "\n",
    "output_height = m.outputHeight\n",
    "output_width = m.outputWidth\n",
    "\n",
    "images = glob.glob( images_path + \"*.jpg\"  ) + glob.glob( images_path + \"*.png\"  ) +  glob.glob( images_path + \"*.jpeg\"  )\n",
    "images.sort()\n",
    "\n",
    "colors = [  ( random.randint(0,255),random.randint(0,255),random.randint(0,255)   ) for _ in range(n_classes)  ]\n",
    "\n",
    "for imgName in images:\n",
    "    outName = imgName.replace(images_path, output_path )\n",
    "    X = LoadBatches.getImageArr(imgName, input_width, input_height)\n",
    "    pr = m.predict( np.array([X]) )[0]\n",
    "    pr = pr.reshape(( output_height ,  output_width , n_classes ) ).argmax( axis=2 )\n",
    "    seg_img = np.zeros( ( output_height , output_width , 3  ) )\n",
    "    \n",
    "    if(len(np.unique(pr)) > 1):\n",
    "        print(np.unique(pr))\n",
    "    \n",
    "    for c in range(n_classes):\n",
    "        seg_img[:,:,0] += ( (pr[:,: ] == c )*( 255 )).astype('uint8')\n",
    "        seg_img[:,:,1] += ((pr[:,: ] == c )*( 255 )).astype('uint8')\n",
    "        seg_img[:,:,2] += ((pr[:,: ] == c )*( 255 )).astype('uint8')\n",
    "    seg_img = cv2.resize(seg_img  , (input_width , input_height ))\n",
    "    cv2.imwrite(  outName , seg_img )\n",
    "    \n",
    "print('Done')"
   ]
  },
  {
   "cell_type": "code",
   "execution_count": null,
   "metadata": {},
   "outputs": [],
   "source": []
  }
 ],
 "metadata": {
  "kernelspec": {
   "display_name": "Python 3",
   "language": "python",
   "name": "python3"
  },
  "language_info": {
   "codemirror_mode": {
    "name": "ipython",
    "version": 3
   },
   "file_extension": ".py",
   "mimetype": "text/x-python",
   "name": "python",
   "nbconvert_exporter": "python",
   "pygments_lexer": "ipython3",
   "version": "3.6.5"
  },
  "widgets": {
   "state": {},
   "version": "1.1.2"
  }
 },
 "nbformat": 4,
 "nbformat_minor": 2
}
