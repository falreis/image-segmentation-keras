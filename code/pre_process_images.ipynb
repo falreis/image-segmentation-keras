{
 "cells": [
  {
   "cell_type": "code",
   "execution_count": 1,
   "metadata": {},
   "outputs": [],
   "source": [
    "%load_ext autoreload\n",
    "%autoreload 2\n",
    "\n",
    "import warnings\n",
    "warnings.filterwarnings(\"ignore\")"
   ]
  },
  {
   "cell_type": "code",
   "execution_count": 2,
   "metadata": {},
   "outputs": [],
   "source": [
    "import matplotlib.pyplot as plt, argparse, numpy as np, math, sys, copy\n",
    "from skimage.segmentation import slic, mark_boundaries, felzenszwalb\n",
    "from skimage.util import img_as_float\n",
    "from skimage import io\n",
    "import numpy as np\n",
    "import superpixels as sp\n",
    "import glob\n",
    "import pipeline as pipe\n",
    "import time\n",
    "import superpixels as sp\n",
    "import scipy.stats as sci\n",
    "from PIL import Image\n",
    "from scipy import ndimage\n",
    "import cv2"
   ]
  },
  {
   "cell_type": "code",
   "execution_count": 3,
   "metadata": {},
   "outputs": [],
   "source": [
    "ground_path = 'BSDS500/data/groundTruth/'\n",
    "data_path = 'BSDS500/data/images/'\n",
    "save_path = 'BSDS500/pre_process/images/'\n",
    "bound_prefix = 'images/'\n",
    "eval_prefix = 'eval/'\n",
    "\n",
    "epsilon = 0.0001 #just to round down\n",
    "DEFAULT_IMG_SIZE = (481,481,3) #defaul image size"
   ]
  },
  {
   "cell_type": "markdown",
   "metadata": {},
   "source": [
    "### Read Images"
   ]
  },
  {
   "cell_type": "code",
   "execution_count": 5,
   "metadata": {},
   "outputs": [
    {
     "name": "stdout",
     "output_type": "stream",
     "text": [
      "300 300\n"
     ]
    }
   ],
   "source": [
    "data_types = ['val', 'train']\n",
    "\n",
    "image_names, names = [], []\n",
    "\n",
    "for data_type in data_types:\n",
    "    image_path = data_path + data_type + '/'\n",
    "    names_path = save_path + data_type + '/'\n",
    "    \n",
    "    len_path = len(image_path)\n",
    "    image_files = glob.glob(image_path + '*.jpg')\n",
    "    image_filenames = [x[len_path:-4] for x in image_files]\n",
    "\n",
    "    #load images\n",
    "    for filename in image_filenames:\n",
    "        file = image_path + filename + '.jpg'\n",
    "\n",
    "        #append image and groundtruths\n",
    "        image_names.append(file)\n",
    "        names.append(names_path + filename + '_&&&.png')\n",
    "\n",
    "print(len(image_names), len(names))"
   ]
  },
  {
   "cell_type": "code",
   "execution_count": 10,
   "metadata": {},
   "outputs": [
    {
     "name": "stdout",
     "output_type": "stream",
     "text": [
      "OK! / 300\n"
     ]
    }
   ],
   "source": [
    "index = 0\n",
    "len_images = len(names)\n",
    "for image_name, name in zip(image_names, names):\n",
    "    index += 1\n",
    "\n",
    "    black_image = np.zeros(DEFAULT_IMG_SIZE,dtype=np.uint8)\n",
    "    image = io.imread(image_name)\n",
    "    \n",
    "    prefix_name = name[:-4]\n",
    "    extension_name = name[-4:]\n",
    "\n",
    "    if(image.shape[0] == 321):\n",
    "        black_image[80:401,:,:] = image[:,:,:]\n",
    "    else:\n",
    "        black_image[:,80:401,:] = image[:,:,:]\n",
    "        \n",
    "    flip_types = ['noflip', 'fliplr']\n",
    "    \n",
    "    for flip_type in flip_types:\n",
    "        if flip_type == 'fliplr':\n",
    "            flip_image = np.fliplr(image)\n",
    "            flip_black = np.fliplr(black_image)\n",
    "        elif flip_type == 'flipud':\n",
    "            flip_image = np.flipud(image)\n",
    "            flip_black = np.flipud(black_image)\n",
    "        else:\n",
    "            flip_black = black_image\n",
    "            flip_image = image\n",
    "        \n",
    "        #save image 0\n",
    "        save_name = prefix_name.replace(\"&&&\", ('_' + flip_type + '_0'))\n",
    "        save_name = (save_name + extension_name)\n",
    "        io.imsave(save_name, flip_black)\n",
    "\n",
    "        #rotate image and save\n",
    "        for angle in range(30, 360, 30):\n",
    "            rot_image = ndimage.rotate(flip_image, angle)\n",
    "            res_image = cv2.resize(rot_image, dsize=DEFAULT_IMG_SIZE[:2], interpolation=cv2.INTER_CUBIC)\n",
    "\n",
    "            save_name = prefix_name.replace(\"&&&\", ('_' + flip_type + '_' + str(angle)))\n",
    "            save_name = (save_name + extension_name)\n",
    "            io.imsave(save_name, res_image)\n",
    "    \n",
    "    print(index, '/', len_images, end='')\n",
    "    print('\\r', end='')\n",
    "\n",
    "print('OK!')"
   ]
  },
  {
   "cell_type": "markdown",
   "metadata": {},
   "source": [
    "### Generate boundaries and save results"
   ]
  },
  {
   "cell_type": "code",
   "execution_count": null,
   "metadata": {},
   "outputs": [],
   "source": [
    "ini = 0\n",
    "fim = len(ground_filenames)\n",
    "\n",
    "methods = ['hsgb'] #['hslic', 'hsgb', 'hegb']\n",
    "\n",
    "for method in methods:\n",
    "    last_shape = None\n",
    "    blank_image = None\n",
    "    index = 0\n",
    "    \n",
    "    starttime = time.time()\n",
    "    for image, name in zip(images[ini:fim], names[ini:fim]):\n",
    "        if(image.shape != last_shape):\n",
    "            blank_image = np.zeros(image.shape,dtype=np.uint8) #create blank image to save\n",
    "            blank_image.fill(255)\n",
    "            last_shape = image.shape\n",
    "        \n",
    "        ##generate ultrametric map\n",
    "        ultra_image, cluster_sizes = pipe.generate_ultrametric_image(image, blank_image, method)\n",
    "        \n",
    "        #convert to grayscale\n",
    "        gray_image = np.dot(ultra_image[...,:3], [0.299, 0.587, 0.114])\n",
    "        \n",
    "        #save image\n",
    "        boundname = save_path + method + '/' + bound_prefix + name\n",
    "        io.imsave(boundname, gray_image)\n",
    "        \n",
    "        #verbose mode\n",
    "        index += 1\n",
    "        if index % 10 == 0:\n",
    "            print(index, cluster_sizes)\n",
    "\n",
    "    endtime = time.time()\n",
    "        \n",
    "    #np.savez(boundname, borders=borders)\n",
    "    print((endtime - starttime), 'seconds')"
   ]
  },
  {
   "cell_type": "markdown",
   "metadata": {},
   "source": [
    "### Recover boundaries and evaluate results"
   ]
  },
  {
   "cell_type": "code",
   "execution_count": null,
   "metadata": {},
   "outputs": [],
   "source": [
    "ini = 0\n",
    "fim = len(ground_filenames)\n",
    "\n",
    "methods = ['hsgb'] #['hslic', 'hsegb', 'hegb']\n",
    "\n",
    "for method in methods:    \n",
    "    threshold = 0\n",
    "    index = 0\n",
    "\n",
    "    starttime = time.time()\n",
    "    \n",
    "    for groundtruth, name in zip(groundtruths[ini:fim], names[ini:fim]):\n",
    "        precisions, recalls = [], []\n",
    "        \n",
    "        boundname = save_path + method + '/' + bound_prefix + name\n",
    "        evalname = save_path + method + '/' + eval_prefix + name + extension\n",
    "        \n",
    "        image = img_as_float(io.imread(boundname))        \n",
    "        unique = np.unique(image)\n",
    "        \n",
    "        #adjust number of clusters (only to some itens)\n",
    "        if(len(unique) <= number_clusters):\n",
    "            len_unique = len(unique)\n",
    "            for i in range(number_clusters-len_unique+1):\n",
    "                unique = np.append(unique, unique[len_unique-1])\n",
    "        \n",
    "        for thresh in unique[1:]:\n",
    "            thresh_image = sci.threshold(image, (thresh - epsilon))\n",
    "\n",
    "            #calculate values from precision and recall\n",
    "            precision, recall = ev.eval_bound(groundtruth[:,:,0], thresh_image, threshold, True)\n",
    "            precisions.append(precision)\n",
    "            recalls.append(recall)\n",
    "        \n",
    "        #verbose mode\n",
    "        index += 1\n",
    "        if index % 10 == 0:\n",
    "            print(index)\n",
    "        \n",
    "        #save precision file\n",
    "        np.savez(evalname, precisions=precisions, recalls=recalls)\n",
    "            \n",
    "    endtime = time.time()\n",
    "    print((endtime - starttime), 'seconds')"
   ]
  },
  {
   "cell_type": "markdown",
   "metadata": {},
   "source": [
    "### Load evaluations and calculate f-measures"
   ]
  },
  {
   "cell_type": "code",
   "execution_count": null,
   "metadata": {},
   "outputs": [],
   "source": [
    "ini = 0\n",
    "fim = len(ground_filenames)\n",
    "\n",
    "methods = ['hsgb'] #['hslic', 'hsegb', 'hegb']\n",
    "\n",
    "for method in methods:\n",
    "    precisions, recalls = [], []\n",
    "    fmeasures = []\n",
    "    \n",
    "    for name in names[ini:fim]:\n",
    "        evalname = save_path + method + '/' + eval_prefix + name + extension\n",
    "        npload = np.load(evalname)\n",
    "        precisions.append(npload['precisions'])\n",
    "        recalls.append(npload['recalls'])\n",
    "\n",
    "    for i in range(0,len(precisions[0])):\n",
    "        cutz_precision, cutz_recall = [], []\n",
    "        \n",
    "        for precision, recall in zip(precisions, recalls):\n",
    "            cutz_precision.append(precision[i])\n",
    "            cutz_recall.append(recall[i])\n",
    "    \n",
    "        np_precisions = (np.array(cutz_precision))\n",
    "        np_recalls = (np.array(cutz_recall))\n",
    "\n",
    "        fmeasure = 2 * ((np_precisions * np_recalls) / (np_precisions + np_recalls))\n",
    "        fmeasures.append(fmeasure)\n",
    "    \n",
    "    #print(fmeasures)\n",
    "print(np.average(fmeasures, axis=1))"
   ]
  },
  {
   "cell_type": "code",
   "execution_count": null,
   "metadata": {},
   "outputs": [],
   "source": []
  }
 ],
 "metadata": {
  "kernelspec": {
   "display_name": "Python 3",
   "language": "python",
   "name": "python3"
  },
  "language_info": {
   "codemirror_mode": {
    "name": "ipython",
    "version": 3
   },
   "file_extension": ".py",
   "mimetype": "text/x-python",
   "name": "python",
   "nbconvert_exporter": "python",
   "pygments_lexer": "ipython3",
   "version": "3.6.5"
  },
  "widgets": {
   "state": {},
   "version": "1.1.2"
  }
 },
 "nbformat": 4,
 "nbformat_minor": 2
}
