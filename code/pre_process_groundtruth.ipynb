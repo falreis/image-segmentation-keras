{
 "cells": [
  {
   "cell_type": "code",
   "execution_count": 1,
   "metadata": {},
   "outputs": [],
   "source": [
    "%load_ext autoreload\n",
    "%autoreload 2\n",
    "\n",
    "import warnings\n",
    "warnings.filterwarnings(\"ignore\")"
   ]
  },
  {
   "cell_type": "code",
   "execution_count": 2,
   "metadata": {},
   "outputs": [],
   "source": [
    "import matplotlib.pyplot as plt, argparse, numpy as np, math, sys, copy\n",
    "from skimage.segmentation import slic, mark_boundaries, felzenszwalb\n",
    "from skimage.util import img_as_float\n",
    "from skimage import io\n",
    "import numpy as np\n",
    "import superpixels as sp\n",
    "import glob\n",
    "import pipeline as pipe\n",
    "import time\n",
    "import superpixels as sp\n",
    "import scipy.stats as sci\n",
    "from PIL import Image\n",
    "from scipy import ndimage\n",
    "import cv2\n",
    "import process_ground_truth as pgt"
   ]
  },
  {
   "cell_type": "code",
   "execution_count": 3,
   "metadata": {},
   "outputs": [],
   "source": [
    "data_path = '/media/falreis/falreis1/mestrado/deep_learning/BSDS500/data/groundTruth/'\n",
    "save_path = '/media/falreis/falreis1/mestrado/deep_learning/BSDS500/pre_process/groundTruth/'\n",
    "\n",
    "epsilon = 0.0001 #just to round down\n",
    "DEFAULT_IMG_SIZE = (481,481,3) #defaul image size"
   ]
  },
  {
   "cell_type": "markdown",
   "metadata": {},
   "source": [
    "### Read Images"
   ]
  },
  {
   "cell_type": "code",
   "execution_count": 4,
   "metadata": {},
   "outputs": [
    {
     "name": "stdout",
     "output_type": "stream",
     "text": [
      "300 300\n"
     ]
    }
   ],
   "source": [
    "data_types = ['val', 'train']\n",
    "\n",
    "image_names, names = [], []\n",
    "\n",
    "for data_type in data_types:\n",
    "    image_path = data_path + data_type + '/'\n",
    "    names_path = save_path + data_type + '/'\n",
    "    \n",
    "    len_path = len(image_path)\n",
    "    image_files = glob.glob(image_path + '*.mat')\n",
    "    image_filenames = [x[len_path:-4] for x in image_files]\n",
    "\n",
    "    #load images\n",
    "    for filename in image_filenames:\n",
    "        file = image_path + filename + '.mat'\n",
    "\n",
    "        #append image and groundtruths\n",
    "        image_names.append(file)\n",
    "        names.append(names_path + filename + '_&&&.png')\n",
    "\n",
    "print(len(image_names), len(names))"
   ]
  },
  {
   "cell_type": "code",
   "execution_count": 5,
   "metadata": {},
   "outputs": [
    {
     "name": "stdout",
     "output_type": "stream",
     "text": [
      "OK! / 300\n"
     ]
    }
   ],
   "source": [
    "index = 0\n",
    "len_images = len(names)\n",
    "\n",
    "for image_name, name in zip(image_names, names):\n",
    "    index += 1\n",
    "\n",
    "    black_image = np.zeros(DEFAULT_IMG_SIZE,dtype=np.uint8)\n",
    "    image = pgt.get_first_groundTruth(image_name)\n",
    "    \n",
    "    prefix_name = name[:-4]\n",
    "    extension_name = name[-4:]\n",
    "\n",
    "    if(image.shape[0] == 321):\n",
    "        black_image[80:401,:,:] = image[:,:,:]\n",
    "    else:\n",
    "        black_image[:,80:401,:] = image[:,:,:]\n",
    "        \n",
    "    flip_types = ['noflip', 'fliplr']\n",
    "    \n",
    "    for flip_type in flip_types:\n",
    "        if flip_type == 'fliplr':\n",
    "            flip_image = np.fliplr(image)\n",
    "            flip_black = np.fliplr(black_image)\n",
    "        elif flip_type == 'flipud':\n",
    "            flip_image = np.flipud(image)\n",
    "            flip_black = np.flipud(black_image)\n",
    "        else:\n",
    "            flip_black = black_image\n",
    "            flip_image = image\n",
    "        \n",
    "        #save image 0\n",
    "        save_name = prefix_name.replace(\"&&&\", ('_' + flip_type + '_0'))\n",
    "        save_name = (save_name + extension_name)\n",
    "        io.imsave(save_name, flip_black)\n",
    "\n",
    "        #rotate image and save\n",
    "        for angle in range(30, 360, 30):\n",
    "            rot_image = ndimage.rotate(flip_image, angle)\n",
    "            res_image = cv2.resize(rot_image, dsize=DEFAULT_IMG_SIZE[:2], interpolation=cv2.INTER_CUBIC)\n",
    "\n",
    "            save_name = prefix_name.replace(\"&&&\", ('_' + flip_type + '_' + str(angle)))\n",
    "            save_name = (save_name + extension_name)\n",
    "            io.imsave(save_name, res_image)\n",
    "    \n",
    "    print(index, '/', len_images, end='')\n",
    "    print('\\r', end='')\n",
    "\n",
    "print('OK!')"
   ]
  },
  {
   "cell_type": "code",
   "execution_count": null,
   "metadata": {},
   "outputs": [],
   "source": []
  }
 ],
 "metadata": {
  "kernelspec": {
   "display_name": "Python 3",
   "language": "python",
   "name": "python3"
  },
  "language_info": {
   "codemirror_mode": {
    "name": "ipython",
    "version": 3
   },
   "file_extension": ".py",
   "mimetype": "text/x-python",
   "name": "python",
   "nbconvert_exporter": "python",
   "pygments_lexer": "ipython3",
   "version": "3.6.5"
  },
  "widgets": {
   "state": {},
   "version": "1.1.2"
  }
 },
 "nbformat": 4,
 "nbformat_minor": 2
}
